{
 "cells": [
  {
   "cell_type": "markdown",
   "metadata": {},
   "source": [
    "# Accessing an AWS S3 bucket & downloading multiple JSON files\n",
    "\n"
   ]
  },
  {
   "cell_type": "markdown",
   "metadata": {},
   "source": [
    "In this notebook we will learn how to access an AWS S3 bucket, download a JSON file from that bucket, create a dataframe from the JSON file contents, to be used the the additioal notbooks in this repo. \n",
    "\n",
    "\n"
   ]
  },
  {
   "cell_type": "code",
   "execution_count": null,
   "metadata": {},
   "outputs": [],
   "source": [
    "!pip install -r requirements.txt"
   ]
  },
  {
   "cell_type": "markdown",
   "metadata": {},
   "source": [
    "## Imports\n",
    "We will need to import various packages. They are either built in the notebook image you are running, or have been installed in the previous step."
   ]
  },
  {
   "cell_type": "code",
   "execution_count": 48,
   "metadata": {},
   "outputs": [],
   "source": [
    "#========================================================================================\n",
    "# import needed libraries/packages \n",
    "#\n",
    "# Note:  we use boto3 which is a Python SDK for AWS.  It allows you to create,\n",
    "# configure and manage AWS resources from your Python scripts.  \n",
    "#========================================================================================\n",
    "import os\n",
    "import pandas as pd\n",
    "import boto3\n",
    "import botocore\n",
    "import json\n",
    "import re\n",
    "\n",
    "from botocore import UNSIGNED\n",
    "from botocore.client import Config"
   ]
  },
  {
   "cell_type": "markdown",
   "metadata": {},
   "source": [
    "This step will take a list of files in the s3 bucket and download them to the local machine."
   ]
  },
  {
   "cell_type": "code",
   "execution_count": 49,
   "metadata": {},
   "outputs": [],
   "source": [
    "#========================================================================================\n",
    "# Identify the name of your S3 bucket, and then the file you wish to download.\n",
    "#========================================================================================\n",
    "# WARNING: Don't commit these to version control or expose them!\n",
    "# AWS credentials\n",
    "AWS_ACCESS_KEY_ID = 'YOUR_ACCESS_KEY'\n",
    "AWS_SECRET_ACCESS_KEY = 'YOUR_SECRET_KEY'\n",
    "\n",
    "# S3 bucket information\n",
    "bucket_name = 'edge-anomaly-detection-bucket-name'\n",
    "local_dest_dir = os.path.join(os.getcwd(), 'datasets/')\n",
    "\n",
    "# List of file names to download\n",
    "file_names = [\n",
    "    'edge-datalake-bullet--Wed Oct 04 13:56:26 GMT 2023.txt',\n",
    "    # Add more file names here if needed\n",
    "]\n",
    "\n",
    "s3 = boto3.client(\n",
    "    's3',\n",
    "    aws_access_key_id=AWS_ACCESS_KEY_ID,\n",
    "    aws_secret_access_key=AWS_SECRET_ACCESS_KEY,\n",
    "    config=Config(signature_version='s3v4')\n",
    ")\n",
    "\n",
    "for file_name in file_names:\n",
    "    new_file_name = file_name.replace(' ', '_').replace(':', '') + '.json'  # Create a new file name\n",
    "    s3.download_file(bucket_name, file_name, os.path.join(local_dest_dir, new_file_name))\n"
   ]
  },
  {
   "cell_type": "markdown",
   "metadata": {},
   "source": [
    "This will contactate the files into a single json file located in the clean_datasets folder."
   ]
  },
  {
   "cell_type": "code",
   "execution_count": null,
   "metadata": {},
   "outputs": [],
   "source": [
    "# Open the JSON Lines file and read lines\n",
    "\n",
    "local_dest_dir = os.path.join(os.getcwd(), 'datasets/')\n",
    "clean_dest_dir = os.path.join(os.getcwd(), 'clean_datasets/')\n",
    "\n",
    "# List all files in the 'datasets' directory\n",
    "file_names = os.listdir(local_dest_dir)\n",
    "\n",
    "# Define the output file path\n",
    "output_file_path = os.path.join(clean_dest_dir, 'edge-datalake-bullet-clean.json')\n",
    "\n",
    "# Check if the output directory exists, and if not, create it\n",
    "if not os.path.exists(clean_dest_dir):\n",
    "    os.makedirs(clean_dest_dir)\n",
    "\n",
    "# Initialize an empty list to store JSON objects\n",
    "json_objects = []\n",
    "\n",
    "# Iterate through the files in the 'datasets' directory\n",
    "for file_name in file_names:\n",
    "    file_path = os.path.join(local_dest_dir, file_name)\n",
    "\n",
    "    # Check if the file is a JSON file\n",
    "    if file_name.endswith('.json'):\n",
    "        print(f\"Processing file: {file_name}\")\n",
    "        # Read the data from the input file\n",
    "        with open(file_path, 'r') as f:\n",
    "            data = f.read()\n",
    "\n",
    "        # Splitting the data into multiple JSON strings\n",
    "        json_strings = data.split('\\\\n')\n",
    "\n",
    "        for json_str in json_strings:\n",
    "            try:\n",
    "                if json_str.strip():\n",
    "                    json_objects.append(json.loads(json_str))\n",
    "            except json.JSONDecodeError:\n",
    "                print(f\"Failed to decode JSON in file: {file_name}\")\n",
    "\n",
    "# Check if there are valid JSON objects to write to the output file\n",
    "if json_objects:\n",
    "    # Write the list of JSON objects as a single JSON array to the output file\n",
    "    with open(output_file_path, 'w') as f:\n",
    "        json.dump(json_objects, f, indent=4)\n",
    "    print(\"Merging completed.\")\n",
    "else:\n",
    "    print(\"No valid JSON data found. The output file was not created.\")\n",
    "\n",
    "# Read the merged JSON file into a pandas DataFrame\n",
    "if os.path.exists(output_file_path):\n",
    "    df = pd.read_json(output_file_path)\n",
    "    # Print the DataFrame\n",
    "    print(df.head())\n",
    "else:\n",
    "    print(\"The output file does not exist.\")"
   ]
  },
  {
   "cell_type": "markdown",
   "metadata": {},
   "source": [
    "This will validate the contents of the data that has been downloaded."
   ]
  },
  {
   "cell_type": "code",
   "execution_count": null,
   "metadata": {},
   "outputs": [],
   "source": [
    "#========================================================================================\n",
    "# Print the contents of the dataframe\n",
    "#========================================================================================\n",
    "print(df)"
   ]
  },
  {
   "cell_type": "code",
   "execution_count": null,
   "metadata": {},
   "outputs": [],
   "source": []
  }
 ],
 "metadata": {
  "kernelspec": {
   "display_name": "Python 3.9",
   "language": "python",
   "name": "python3"
  },
  "language_info": {
   "codemirror_mode": {
    "name": "ipython",
    "version": 3
   },
   "file_extension": ".py",
   "mimetype": "text/x-python",
   "name": "python",
   "nbconvert_exporter": "python",
   "pygments_lexer": "ipython3",
   "version": "3.9.16"
  },
  "toc": {
   "base_numbering": 1,
   "nav_menu": {},
   "number_sections": true,
   "sideBar": true,
   "skip_h1_title": false,
   "title_cell": "Table of Contents",
   "title_sidebar": "Contents",
   "toc_cell": false,
   "toc_position": {},
   "toc_section_display": true,
   "toc_window_display": false
  }
 },
 "nbformat": 4,
 "nbformat_minor": 4
}
